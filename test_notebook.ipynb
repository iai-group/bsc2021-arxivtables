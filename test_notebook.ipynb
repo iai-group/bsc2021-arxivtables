{
 "cells": [
  {
   "cell_type": "code",
   "execution_count": 14,
   "id": "b4298927",
   "metadata": {},
   "outputs": [],
   "source": [
    "from TexSoup import TexSoup"
   ]
  },
  {
   "cell_type": "code",
   "execution_count": 15,
   "id": "328aef4a",
   "metadata": {},
   "outputs": [],
   "source": [
    "texSource = \"\"\"\n",
    "\\begin{document}\n",
    "\n",
    "\\section{Hello \\textit{world}.}\n",
    "\n",
    "\\subsection{Watermelon}\n",
    "\n",
    "(n.) A sacred fruit. Also known as:\n",
    "\n",
    "\\begin{itemize}\n",
    "\\item red lemon\n",
    "\\item life\n",
    "\\end{itemize}\n",
    "\n",
    "\\subsection{WWW}\n",
    "\n",
    "\\end{document}\n",
    "\"\"\""
   ]
  },
  {
   "cell_type": "code",
   "execution_count": 16,
   "id": "2fa141e0",
   "metadata": {},
   "outputs": [],
   "source": [
    "soup = TexSoup(texSource)"
   ]
  },
  {
   "cell_type": "code",
   "execution_count": 17,
   "id": "3ce1f429",
   "metadata": {},
   "outputs": [
    {
     "data": {
      "text/plain": [
       "[\\item red lemon, \\item life]"
      ]
     },
     "execution_count": 17,
     "metadata": {},
     "output_type": "execute_result"
    }
   ],
   "source": [
    "list(soup.find_all('item'))"
   ]
  },
  {
   "cell_type": "code",
   "execution_count": 23,
   "id": "1dda989d",
   "metadata": {},
   "outputs": [
    {
     "data": {
      "text/plain": [
       "\\section{Hello \textit{world}.}"
      ]
     },
     "execution_count": 23,
     "metadata": {},
     "output_type": "execute_result"
    }
   ],
   "source": [
    "soup.section"
   ]
  },
  {
   "cell_type": "code",
   "execution_count": null,
   "id": "0e7f09d4",
   "metadata": {},
   "outputs": [],
   "source": []
  },
  {
   "cell_type": "code",
   "execution_count": 21,
   "id": "c38541a2",
   "metadata": {},
   "outputs": [
    {
     "data": {
      "text/plain": [
       "\\subsection{Watermelon}"
      ]
     },
     "execution_count": 21,
     "metadata": {},
     "output_type": "execute_result"
    }
   ],
   "source": [
    "soup.subsection"
   ]
  },
  {
   "cell_type": "code",
   "execution_count": 22,
   "id": "65b01c29",
   "metadata": {},
   "outputs": [
    {
     "data": {
      "text/plain": [
       "\\subsection{Watermelon}"
      ]
     },
     "execution_count": 22,
     "metadata": {},
     "output_type": "execute_result"
    }
   ],
   "source": [
    "soup.subsection"
   ]
  },
  {
   "cell_type": "code",
   "execution_count": null,
   "id": "6a84cf16",
   "metadata": {},
   "outputs": [],
   "source": []
  }
 ],
 "metadata": {
  "kernelspec": {
   "display_name": "Python 3",
   "language": "python",
   "name": "python3"
  },
  "language_info": {
   "codemirror_mode": {
    "name": "ipython",
    "version": 3
   },
   "file_extension": ".py",
   "mimetype": "text/x-python",
   "name": "python",
   "nbconvert_exporter": "python",
   "pygments_lexer": "ipython3",
   "version": "3.9.2"
  }
 },
 "nbformat": 4,
 "nbformat_minor": 5
}
